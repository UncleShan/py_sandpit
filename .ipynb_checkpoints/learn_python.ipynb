{
 "cells": [
  {
   "cell_type": "code",
   "execution_count": 1,
   "id": "e66b1cce-2d8b-4ead-8a1e-5c3fd959319d",
   "metadata": {},
   "outputs": [
    {
     "name": "stdout",
     "output_type": "stream",
     "text": [
      "hello world!\n"
     ]
    }
   ],
   "source": [
    "print(\"hello world!\")"
   ]
  },
  {
   "cell_type": "code",
   "execution_count": 2,
   "id": "3eaae124-b190-436f-8c01-ffebae0c776b",
   "metadata": {},
   "outputs": [
    {
     "name": "stdout",
     "output_type": "stream",
     "text": [
      "3.13.2 (tags/v3.13.2:4f8bb39, Feb  4 2025, 15:23:48) [MSC v.1942 64 bit (AMD64)]\n"
     ]
    }
   ],
   "source": [
    "import sys\n",
    "print(sys.version)"
   ]
  },
  {
   "cell_type": "code",
   "execution_count": 5,
   "id": "601e1dcf-cbae-4d34-b1e0-811193009706",
   "metadata": {},
   "outputs": [
    {
     "name": "stdout",
     "output_type": "stream",
     "text": [
      "5>2\n"
     ]
    }
   ],
   "source": [
    "if 5>2:\n",
    "    print(\"5>2\")"
   ]
  },
  {
   "cell_type": "code",
   "execution_count": 6,
   "id": "b5bfdf49-01ff-4d2f-9529-3fe1d5fca0f6",
   "metadata": {},
   "outputs": [
    {
     "name": "stdout",
     "output_type": "stream",
     "text": [
      "5>2\n",
      "5>2\n"
     ]
    }
   ],
   "source": [
    "if 5>2:\n",
    "    print(\"5>2\")\n",
    "if 5>2:\n",
    "        print(\"5>2\")"
   ]
  },
  {
   "cell_type": "code",
   "execution_count": 7,
   "id": "e608d6cd-854c-40be-aa17-bec33b34379b",
   "metadata": {},
   "outputs": [
    {
     "ename": "IndentationError",
     "evalue": "unexpected indent (3173826820.py, line 3)",
     "output_type": "error",
     "traceback": [
      "\u001b[1;36m  Cell \u001b[1;32mIn[7], line 3\u001b[1;36m\u001b[0m\n\u001b[1;33m    print(\"5>2\")\u001b[0m\n\u001b[1;37m    ^\u001b[0m\n\u001b[1;31mIndentationError\u001b[0m\u001b[1;31m:\u001b[0m unexpected indent\n"
     ]
    }
   ],
   "source": [
    "if 5>2:\n",
    "    print(\"5>2\")\n",
    "        print(\"5>2\")"
   ]
  },
  {
   "cell_type": "code",
   "execution_count": null,
   "id": "ed3d101a-c866-4c7e-80c0-d841ecab5f31",
   "metadata": {},
   "outputs": [],
   "source": []
  },
  {
   "cell_type": "code",
   "execution_count": 9,
   "id": "f46c79fc-afca-4a2f-97ba-695ff1151385",
   "metadata": {},
   "outputs": [
    {
     "name": "stdout",
     "output_type": "stream",
     "text": [
      "test\n"
     ]
    },
    {
     "data": {
      "text/plain": [
       "'\\nthis \\nis \\na\\nmulti-line\\ncomment\\n'"
      ]
     },
     "execution_count": 9,
     "metadata": {},
     "output_type": "execute_result"
    }
   ],
   "source": [
    "# this is a comment\n",
    "print(\"test\") # this is also a comment\n",
    "\"\"\"\n",
    "this \n",
    "is \n",
    "a\n",
    "multi-line\n",
    "comment\n",
    "\"\"\""
   ]
  },
  {
   "cell_type": "code",
   "execution_count": null,
   "id": "e43c1312-ad49-4691-b4c5-65352bf04b8e",
   "metadata": {},
   "outputs": [],
   "source": []
  },
  {
   "cell_type": "code",
   "execution_count": null,
   "id": "78985487-1e17-4ea3-9a36-000b977efcd8",
   "metadata": {},
   "outputs": [],
   "source": []
  }
 ],
 "metadata": {
  "kernelspec": {
   "display_name": "Python 3 (ipykernel)",
   "language": "python",
   "name": "python3"
  },
  "language_info": {
   "codemirror_mode": {
    "name": "ipython",
    "version": 3
   },
   "file_extension": ".py",
   "mimetype": "text/x-python",
   "name": "python",
   "nbconvert_exporter": "python",
   "pygments_lexer": "ipython3",
   "version": "3.13.2"
  }
 },
 "nbformat": 4,
 "nbformat_minor": 5
}
